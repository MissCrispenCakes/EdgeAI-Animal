{
  "nbformat": 4,
  "nbformat_minor": 0,
  "metadata": {
    "colab": {
      "provenance": [],
      "collapsed_sections": [],
      "authorship_tag": "ABX9TyPGtrhXhoNWjTNMU4GIFJWp",
      "include_colab_link": true
    },
    "kernelspec": {
      "name": "python3",
      "display_name": "Python 3"
    },
    "language_info": {
      "name": "python"
    },
    "gpuClass": "standard"
  },
  "cells": [
    {
      "cell_type": "markdown",
      "metadata": {
        "id": "view-in-github",
        "colab_type": "text"
      },
      "source": [
        "<a href=\"https://colab.research.google.com/github/MissCrispenCakes/Hackaday2022/blob/basecamp/PBHU_ST_2022.ipynb\" target=\"_parent\"><img src=\"https://colab.research.google.com/assets/colab-badge.svg\" alt=\"Open In Colab\"/></a>"
      ]
    },
    {
      "cell_type": "markdown",
      "source": [
        "===== PBHU-ST ====="
      ],
      "metadata": {
        "id": "jDCJmxU5yGR6"
      }
    },
    {
      "cell_type": "markdown",
      "source": [
        "===== ===== =====\n",
        "1. Check system\n",
        "\n",
        "===== ===== ====="
      ],
      "metadata": {
        "id": "QPU1nf9TyoUV"
      }
    },
    {
      "cell_type": "code",
      "execution_count": 5,
      "metadata": {
        "colab": {
          "base_uri": "https://localhost:8080/"
        },
        "id": "23TOba33L4qf",
        "outputId": "bca62b46-4f50-4b86-c3c3-fa2771e17748"
      },
      "outputs": [
        {
          "output_type": "stream",
          "name": "stdout",
          "text": [
            "Not connected to a GPU\n"
          ]
        }
      ],
      "source": [
        "gpu_info = !nvidia-smi\n",
        "gpu_info = '\\n'.join(gpu_info)\n",
        "if gpu_info.find('failed') >= 0:\n",
        "  print('Not connected to a GPU')\n",
        "else:\n",
        "  print(gpu_info)"
      ]
    },
    {
      "cell_type": "code",
      "source": [
        "from psutil import virtual_memory\n",
        "ram_gb = virtual_memory().total / 1e9\n",
        "print('Your runtime has {:.1f} gigabytes of available RAM\\n'.format(ram_gb))\n",
        "\n",
        "if ram_gb < 20:\n",
        "  print('Not using a high-RAM runtime')\n",
        "else:\n",
        "  print('You are using a high-RAM runtime!')"
      ],
      "metadata": {
        "colab": {
          "base_uri": "https://localhost:8080/"
        },
        "id": "dB5qqDD-x8nP",
        "outputId": "2a6dfe26-75dd-4527-8b89-fbdebe65127d"
      },
      "execution_count": 6,
      "outputs": [
        {
          "output_type": "stream",
          "name": "stdout",
          "text": [
            "Your runtime has 13.6 gigabytes of available RAM\n",
            "\n",
            "Not using a high-RAM runtime\n"
          ]
        }
      ]
    },
    {
      "cell_type": "markdown",
      "source": [
        " ===== ===== =====\n",
        "\n",
        "2. Load content\n",
        "\n",
        "===== ===== ====="
      ],
      "metadata": {
        "id": "HqdthjuXynQG"
      }
    },
    {
      "cell_type": "code",
      "metadata": {
        "id": "30hit9sVICpR",
        "colab": {
          "base_uri": "https://localhost:8080/"
        },
        "outputId": "5358ddbb-ee20-42f2-d85e-996b165457ef"
      },
      "source": [
        "from google.colab import drive\n",
        "drive.mount('/content/drive')"
      ],
      "execution_count": 7,
      "outputs": [
        {
          "output_type": "stream",
          "name": "stdout",
          "text": [
            "Mounted at /content/drive\n"
          ]
        }
      ]
    },
    {
      "cell_type": "markdown",
      "source": [
        "===== ===== =====\n",
        "3. Connect to Cloud\n",
        "\n",
        "===== ===== ====="
      ],
      "metadata": {
        "id": "EXWbQtpz44rY"
      }
    },
    {
      "cell_type": "code",
      "execution_count": 8,
      "metadata": {
        "id": "VYC5CyAbAtU7"
      },
      "outputs": [],
      "source": [
        "project_id = 'ivas-hackart'"
      ]
    },
    {
      "cell_type": "code",
      "execution_count": 9,
      "metadata": {
        "id": "JgjL1e0ua-kN"
      },
      "outputs": [],
      "source": [
        "import uuid\n",
        "bucket_name = 'colab-bucket-pbhu-st-' + str(uuid.uuid1())"
      ]
    },
    {
      "cell_type": "code",
      "execution_count": 10,
      "metadata": {
        "id": "NQX0hbfYaEKc"
      },
      "outputs": [],
      "source": [
        "from google.colab import auth\n",
        "auth.authenticate_user()"
      ]
    },
    {
      "cell_type": "code",
      "execution_count": 11,
      "metadata": {
        "colab": {
          "base_uri": "https://localhost:8080/"
        },
        "id": "TpnuFITI6Tzu",
        "outputId": "4f89fa9e-3cd3-404e-f4e6-7359af1e9827"
      },
      "outputs": [
        {
          "output_type": "stream",
          "name": "stdout",
          "text": [
            "Updated property [core/project].\n"
          ]
        }
      ],
      "source": [
        "!gcloud config set project {project_id}"
      ]
    },
    {
      "cell_type": "code",
      "execution_count": 12,
      "metadata": {
        "colab": {
          "base_uri": "https://localhost:8080/"
        },
        "id": "LADpx7LReOMk",
        "outputId": "68cfec19-129e-49d2-82d2-247d822312cc"
      },
      "outputs": [
        {
          "output_type": "stream",
          "name": "stdout",
          "text": [
            "/tmp/to_upload.txt contains:\n",
            "my sample file"
          ]
        }
      ],
      "source": [
        "with open('/tmp/to_upload.txt', 'w') as f:\n",
        "  f.write('my sample file')\n",
        "\n",
        "print('/tmp/to_upload.txt contains:')\n",
        "!cat /tmp/to_upload.txt"
      ]
    },
    {
      "cell_type": "code",
      "execution_count": 13,
      "metadata": {
        "colab": {
          "base_uri": "https://localhost:8080/"
        },
        "id": "Bcpvh_R_6jKB",
        "outputId": "12ecc6d1-b994-4901-e4a0-cfc6f1517c02"
      },
      "outputs": [
        {
          "output_type": "stream",
          "name": "stdout",
          "text": [
            "Creating gs://colab-bucket-pbh-st-b2bfa854-52f9-11ed-858f-0242ac1c0002/...\n"
          ]
        }
      ],
      "source": [
        "!gsutil mb gs://{bucket_name}"
      ]
    },
    {
      "cell_type": "code",
      "execution_count": 14,
      "metadata": {
        "colab": {
          "base_uri": "https://localhost:8080/"
        },
        "id": "L5cMl7XV65be",
        "outputId": "8af67538-6f3e-4cb4-ad5a-19c7e06940c1"
      },
      "outputs": [
        {
          "output_type": "stream",
          "name": "stdout",
          "text": [
            "Copying file:///tmp/to_upload.txt [Content-Type=text/plain]...\n",
            "/ [1 files][   14.0 B/   14.0 B]                                                \n",
            "Operation completed over 1 objects/14.0 B.                                       \n"
          ]
        }
      ],
      "source": [
        "!gsutil cp /tmp/to_upload.txt gs://{bucket_name}/"
      ]
    },
    {
      "cell_type": "code",
      "execution_count": 15,
      "metadata": {
        "colab": {
          "base_uri": "https://localhost:8080/"
        },
        "id": "pJGU6gX-7M-N",
        "outputId": "6b5bf204-7436-431b-b736-438166d0cdf6"
      },
      "outputs": [
        {
          "output_type": "stream",
          "name": "stdout",
          "text": [
            "my sample file"
          ]
        }
      ],
      "source": [
        "!gsutil cat gs://{bucket_name}/to_upload.txt"
      ]
    },
    {
      "cell_type": "code",
      "execution_count": 16,
      "metadata": {
        "colab": {
          "base_uri": "https://localhost:8080/"
        },
        "id": "qoectKiGOABf",
        "outputId": "62107e66-2da5-48fe-ad47-e0847108353d"
      },
      "outputs": [
        {
          "output_type": "stream",
          "name": "stdout",
          "text": [
            "https://console.cloud.google.com/storage/browser?project=ivas-hackart\n"
          ]
        }
      ],
      "source": [
        "#@markdown Once the upload has finished, the data will appear in the Cloud Console storage browser for your project:\n",
        "print('https://console.cloud.google.com/storage/browser?project=' + project_id)"
      ]
    }
  ]
}